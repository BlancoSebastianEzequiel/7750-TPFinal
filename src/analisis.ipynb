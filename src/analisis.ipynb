{
 "cells": [
  {
   "cell_type": "markdown",
   "metadata": {},
   "source": [
    "# Trabajo Practico Final"
   ]
  },
  {
   "cell_type": "markdown",
   "metadata": {},
   "source": [
    "## Alumnos\n",
    "\n",
    "|Apellido | Nombres  |  Padron |\n",
    "|:-------:|:--------:|:-------:|\n",
    "|  Blanco |  Sebastian Ezequiel | 98539  |\n",
    "|  Llauro | Manuel Luis  |  95736 |\n",
    "|  Rial | Sebastian Andres  | 90309  |"
   ]
  },
  {
   "cell_type": "code",
   "execution_count": 107,
   "metadata": {},
   "outputs": [],
   "source": [
    "import pandas as pd\n",
    "import numpy as np"
   ]
  },
  {
   "cell_type": "code",
   "execution_count": 108,
   "metadata": {},
   "outputs": [],
   "source": [
    "#----------------------------------------------------------------\n",
    "# GET DATA FRAME\n",
    "#----------------------------------------------------------------\n",
    "def get_data_frame(path, a_sep):\n",
    "    return pd.read_csv(path, low_memory=False, sep=a_sep)\n",
    "#----------------------------------------------------------------\n",
    "# GET JSON\n",
    "#----------------------------------------------------------------\n",
    "def get_json(path):\n",
    "    return pd.read_json(path)\n",
    "#----------------------------------------------------------------\n",
    "# GET CATEGORIES CONVERTION\n",
    "#----------------------------------------------------------------\n",
    "def get_categories_convertion(json):\n",
    "    size = len(json)\n",
    "    categories = {}\n",
    "    for i in range(0, size):\n",
    "        _id = int(json['items'][i]['id'])\n",
    "        value = str(json['items'][i]['snippet']['title'])\n",
    "        categories[_id] = value\n",
    "    return categories\n",
    "#----------------------------------------------------------------\n",
    "# ADD CATEGORIES\n",
    "#----------------------------------------------------------------\n",
    "def add_categories(videos, categories_dict):\n",
    "    categories = []\n",
    "    size = len(videos)\n",
    "    for i in range(0, size):\n",
    "        categories.append(categories_dict[videos['category_id'][i]])\n",
    "    videos['categories'] = categories\n",
    "    return videos\n",
    "#----------------------------------------------------------------\n",
    "# PARSE PUBLISH TIME\n",
    "#----------------------------------------------------------------\n",
    "def parse_publish_time(time):\n",
    "    # format recieved: 2017-11-13T17:13:01.000Z\n",
    "    # format returned: '2017-11-13 13:01:000'\n",
    "    splited = time.split('T')\n",
    "    timestamp = splited[0] + \" \" + splited[1].split('Z')[0]\n",
    "    return timestamp\n",
    "#----------------------------------------------------------------\n",
    "# PUBLISH TIME TO TIMESTAMP\n",
    "#----------------------------------------------------------------\n",
    "def publish_time_to_timestamp(time):\n",
    "    # format recieved: '2017-11-13 13:01:000'\n",
    "    # format returned: object: '2017-11-13 13:01:000'\n",
    "    return pd.Timestamp(time)\n",
    "#----------------------------------------------------------------\n",
    "# PARSE TRENDING DATE\n",
    "#----------------------------------------------------------------\n",
    "def parse_trending_date(date):\n",
    "    # format recieved: 17.14.11\n",
    "    # format returned: 2017-11-14\n",
    "    splited = date.split('.')\n",
    "    year = \"20\" + splited[0]\n",
    "    month = splited[2]\n",
    "    day = splited[1]\n",
    "    return year + \"-\" + month + \"-\" + day\n",
    "#----------------------------------------------------------------\n",
    "# CHANGE DATE FORMATS\n",
    "#----------------------------------------------------------------\n",
    "def change_date_formats(videos):\n",
    "    videos['publish_time'] = videos['publish_time'].apply(lambda x: parse_publish_time(x))\n",
    "    videos['publish_time'] = videos['publish_time'].apply(lambda x: publish_time_to_timestamp(x))\n",
    "    videos['publish_time'] = videos['publish_time'].map(pd.Timestamp.date)\n",
    "    videos['trending_date'] = videos['trending_date'].apply(lambda x: parse_trending_date(x))\n",
    "    return videos"
   ]
  },
  {
   "cell_type": "code",
   "execution_count": 109,
   "metadata": {},
   "outputs": [],
   "source": [
    "videos = get_data_frame(\"./data/USvideos.csv\", ',')\n",
    "json = get_json(\"./data/US_category_id.json\")\n",
    "categories_dict = get_categories_convertion(json)\n",
    "videos = add_categories(videos, categories_dict)\n",
    "videos = change_date_formats(videos)"
   ]
  },
  {
   "cell_type": "markdown",
   "metadata": {},
   "source": [
    "# Recolectar los Datos Iniciales\n",
    "Los datos utilizados durante el transcurso del proyecto fueron obtenidos gratuitamente\n",
    "en el sitio de Kaggle y el mismo se encuentra en formato csv.\n",
    "\n",
    "## Reporte de Descripción de los Datos\n",
    "* El data set se enunetra en la carpeta ```src/doc/``` del proyecto. \n",
    "* se uso pandas como metodo de recoleccion de datos.\n",
    "* Para poder levantar el set de datos se usa como separado una coma."
   ]
  },
  {
   "cell_type": "code",
   "execution_count": 110,
   "metadata": {},
   "outputs": [
    {
     "data": {
      "text/html": [
       "<div>\n",
       "<style scoped>\n",
       "    .dataframe tbody tr th:only-of-type {\n",
       "        vertical-align: middle;\n",
       "    }\n",
       "\n",
       "    .dataframe tbody tr th {\n",
       "        vertical-align: top;\n",
       "    }\n",
       "\n",
       "    .dataframe thead th {\n",
       "        text-align: right;\n",
       "    }\n",
       "</style>\n",
       "<table border=\"1\" class=\"dataframe\">\n",
       "  <thead>\n",
       "    <tr style=\"text-align: right;\">\n",
       "      <th></th>\n",
       "      <th>video_id</th>\n",
       "      <th>trending_date</th>\n",
       "      <th>title</th>\n",
       "      <th>channel_title</th>\n",
       "      <th>category_id</th>\n",
       "      <th>publish_time</th>\n",
       "      <th>tags</th>\n",
       "      <th>views</th>\n",
       "      <th>likes</th>\n",
       "      <th>dislikes</th>\n",
       "      <th>comment_count</th>\n",
       "      <th>thumbnail_link</th>\n",
       "      <th>comments_disabled</th>\n",
       "      <th>ratings_disabled</th>\n",
       "      <th>video_error_or_removed</th>\n",
       "      <th>description</th>\n",
       "      <th>categories</th>\n",
       "    </tr>\n",
       "  </thead>\n",
       "  <tbody>\n",
       "    <tr>\n",
       "      <th>0</th>\n",
       "      <td>2kyS6SvSYSE</td>\n",
       "      <td>2017-11-14</td>\n",
       "      <td>WE WANT TO TALK ABOUT OUR MARRIAGE</td>\n",
       "      <td>CaseyNeistat</td>\n",
       "      <td>22</td>\n",
       "      <td>2017-11-13</td>\n",
       "      <td>SHANtell martin</td>\n",
       "      <td>748374</td>\n",
       "      <td>57527</td>\n",
       "      <td>2966</td>\n",
       "      <td>15954</td>\n",
       "      <td>https://i.ytimg.com/vi/2kyS6SvSYSE/default.jpg</td>\n",
       "      <td>False</td>\n",
       "      <td>False</td>\n",
       "      <td>False</td>\n",
       "      <td>SHANTELL'S CHANNEL - https://www.youtube.com/s...</td>\n",
       "      <td>People &amp; Blogs</td>\n",
       "    </tr>\n",
       "    <tr>\n",
       "      <th>1</th>\n",
       "      <td>1ZAPwfrtAFY</td>\n",
       "      <td>2017-11-14</td>\n",
       "      <td>The Trump Presidency: Last Week Tonight with J...</td>\n",
       "      <td>LastWeekTonight</td>\n",
       "      <td>24</td>\n",
       "      <td>2017-11-13</td>\n",
       "      <td>last week tonight trump presidency|\"last week ...</td>\n",
       "      <td>2418783</td>\n",
       "      <td>97185</td>\n",
       "      <td>6146</td>\n",
       "      <td>12703</td>\n",
       "      <td>https://i.ytimg.com/vi/1ZAPwfrtAFY/default.jpg</td>\n",
       "      <td>False</td>\n",
       "      <td>False</td>\n",
       "      <td>False</td>\n",
       "      <td>One year after the presidential election, John...</td>\n",
       "      <td>Entertainment</td>\n",
       "    </tr>\n",
       "    <tr>\n",
       "      <th>2</th>\n",
       "      <td>5qpjK5DgCt4</td>\n",
       "      <td>2017-11-14</td>\n",
       "      <td>Racist Superman | Rudy Mancuso, King Bach &amp; Le...</td>\n",
       "      <td>Rudy Mancuso</td>\n",
       "      <td>23</td>\n",
       "      <td>2017-11-12</td>\n",
       "      <td>racist superman|\"rudy\"|\"mancuso\"|\"king\"|\"bach\"...</td>\n",
       "      <td>3191434</td>\n",
       "      <td>146033</td>\n",
       "      <td>5339</td>\n",
       "      <td>8181</td>\n",
       "      <td>https://i.ytimg.com/vi/5qpjK5DgCt4/default.jpg</td>\n",
       "      <td>False</td>\n",
       "      <td>False</td>\n",
       "      <td>False</td>\n",
       "      <td>WATCH MY PREVIOUS VIDEO ▶ \\n\\nSUBSCRIBE ► http...</td>\n",
       "      <td>Comedy</td>\n",
       "    </tr>\n",
       "  </tbody>\n",
       "</table>\n",
       "</div>"
      ],
      "text/plain": [
       "      video_id trending_date  \\\n",
       "0  2kyS6SvSYSE    2017-11-14   \n",
       "1  1ZAPwfrtAFY    2017-11-14   \n",
       "2  5qpjK5DgCt4    2017-11-14   \n",
       "\n",
       "                                               title    channel_title  \\\n",
       "0                 WE WANT TO TALK ABOUT OUR MARRIAGE     CaseyNeistat   \n",
       "1  The Trump Presidency: Last Week Tonight with J...  LastWeekTonight   \n",
       "2  Racist Superman | Rudy Mancuso, King Bach & Le...     Rudy Mancuso   \n",
       "\n",
       "   category_id publish_time  \\\n",
       "0           22   2017-11-13   \n",
       "1           24   2017-11-13   \n",
       "2           23   2017-11-12   \n",
       "\n",
       "                                                tags    views   likes  \\\n",
       "0                                    SHANtell martin   748374   57527   \n",
       "1  last week tonight trump presidency|\"last week ...  2418783   97185   \n",
       "2  racist superman|\"rudy\"|\"mancuso\"|\"king\"|\"bach\"...  3191434  146033   \n",
       "\n",
       "   dislikes  comment_count                                  thumbnail_link  \\\n",
       "0      2966          15954  https://i.ytimg.com/vi/2kyS6SvSYSE/default.jpg   \n",
       "1      6146          12703  https://i.ytimg.com/vi/1ZAPwfrtAFY/default.jpg   \n",
       "2      5339           8181  https://i.ytimg.com/vi/5qpjK5DgCt4/default.jpg   \n",
       "\n",
       "   comments_disabled  ratings_disabled  video_error_or_removed  \\\n",
       "0              False             False                   False   \n",
       "1              False             False                   False   \n",
       "2              False             False                   False   \n",
       "\n",
       "                                         description      categories  \n",
       "0  SHANTELL'S CHANNEL - https://www.youtube.com/s...  People & Blogs  \n",
       "1  One year after the presidential election, John...   Entertainment  \n",
       "2  WATCH MY PREVIOUS VIDEO ▶ \\n\\nSUBSCRIBE ► http...          Comedy  "
      ]
     },
     "execution_count": 110,
     "metadata": {},
     "output_type": "execute_result"
    }
   ],
   "source": [
    "videos.head(3)"
   ]
  },
  {
   "cell_type": "markdown",
   "metadata": {},
   "source": [
    "# Descubrir datos\n",
    "\n",
    "## Reporte de descripción de datos"
   ]
  },
  {
   "cell_type": "code",
   "execution_count": 111,
   "metadata": {},
   "outputs": [
    {
     "data": {
      "text/plain": [
       "video_id                  object\n",
       "trending_date             object\n",
       "title                     object\n",
       "channel_title             object\n",
       "category_id                int64\n",
       "publish_time              object\n",
       "tags                      object\n",
       "views                      int64\n",
       "likes                      int64\n",
       "dislikes                   int64\n",
       "comment_count              int64\n",
       "thumbnail_link            object\n",
       "comments_disabled           bool\n",
       "ratings_disabled            bool\n",
       "video_error_or_removed      bool\n",
       "description               object\n",
       "categories                object\n",
       "dtype: object"
      ]
     },
     "execution_count": 111,
     "metadata": {},
     "output_type": "execute_result"
    }
   ],
   "source": [
    "videos.dtypes"
   ]
  },
  {
   "cell_type": "markdown",
   "metadata": {},
   "source": [
    "# Exploración de los Datos\n",
    "\n",
    "## Reporte de Exploración de datos"
   ]
  },
  {
   "cell_type": "markdown",
   "metadata": {},
   "source": [
    "### Analisis de categorias"
   ]
  },
  {
   "cell_type": "code",
   "execution_count": 112,
   "metadata": {},
   "outputs": [
    {
     "data": {
      "text/plain": [
       "Text(0.5,1,u'Genres count')"
      ]
     },
     "execution_count": 112,
     "metadata": {},
     "output_type": "execute_result"
    },
    {
     "data": {
      "image/png": "[encoded data removed]",
      "text/plain": [
       "<matplotlib.figure.Figure at 0x7f4c3318f790>"
      ]
     },
     "metadata": {},
     "output_type": "display_data"
    }
   ],
   "source": [
    "videos.categories.value_counts(ascending=True).plot(kind='barh', figsize=(16,10)).set_title('Genres count')"
   ]
  },
  {
   "cell_type": "markdown",
   "metadata": {},
   "source": [
    "### Analisis de vistas en funcion de likes"
   ]
  },
  {
   "cell_type": "code",
   "execution_count": 113,
   "metadata": {},
   "outputs": [
    {
     "data": {
      "text/plain": [
       "<matplotlib.axes._subplots.AxesSubplot at 0x7f4c33204910>"
      ]
     },
     "execution_count": 113,
     "metadata": {},
     "output_type": "execute_result"
    },
    {
     "data": {
      "image/png": "[encoded data removed]",
      "text/plain": [
       "<matplotlib.figure.Figure at 0x7f4c331b9fd0>"
      ]
     },
     "metadata": {},
     "output_type": "display_data"
    }
   ],
   "source": [
    "views = videos.loc[:, ['likes', 'views']].groupby('likes').agg({'views': ['sum']}).reset_index()\n",
    "graph = views.plot(x='likes', y='views', logx=True, kind='line', figsize=(16,10))\n",
    "graph.set_title('views depending on likes')\n",
    "graph.set_xlabel(\"likes\")\n",
    "graph.set_ylabel(\"views\")\n",
    "graph"
   ]
  },
  {
   "cell_type": "markdown",
   "metadata": {},
   "source": [
    "### Analisis de categorias excluyendo la categoria Entertainment"
   ]
  },
  {
   "cell_type": "markdown",
   "metadata": {},
   "source": [
    "# Verificar la Calidad de los Datos\n",
    "\n",
    "## Reporte de Calidad de Datos"
   ]
  },
  {
   "cell_type": "code",
   "execution_count": null,
   "metadata": {},
   "outputs": [],
   "source": [
    "# aca explicmos si salio bine o no. si hay coherencia"
   ]
  },
  {
   "cell_type": "code",
   "execution_count": null,
   "metadata": {},
   "outputs": [],
   "source": []
  }
 ],
 "metadata": {
  "kernelspec": {
   "display_name": "Python 2",
   "language": "python",
   "name": "python2"
  },
  "language_info": {
   "codemirror_mode": {
    "name": "ipython",
    "version": 2
   },
   "file_extension": ".py",
   "mimetype": "text/x-python",
   "name": "python",
   "nbconvert_exporter": "python",
   "pygments_lexer": "ipython2",
   "version": "2.7.15rc1"
  }
 },
 "nbformat": 4,
 "nbformat_minor": 2
}
